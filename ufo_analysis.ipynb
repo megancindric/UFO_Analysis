{
 "cells": [
  {
   "cell_type": "markdown",
   "metadata": {},
   "source": [
    "### Tutorial - UFO Analysis & Data Cleaning\n",
    "\n",
    "Importing & Cleaning Dataset:"
   ]
  },
  {
   "cell_type": "code",
   "execution_count": 1,
   "metadata": {},
   "outputs": [
    {
     "name": "stderr",
     "output_type": "stream",
     "text": [
      "C:\\Users\\megan\\AppData\\Local\\Temp\\ipykernel_23112\\861321469.py:3: DtypeWarning: Columns (5,9) have mixed types. Specify dtype option on import or set low_memory=False.\n",
      "  ufo_df = pd.read_csv(\"ufo-scrubbed-geocoded-time-standardized.csv\",names=[\"Date_Time\", \"City\", \"State/Province\", \"Country\",\"UFO_Shape\", \"Length_of_Encounter\", \"Described_Duration\", \"Description\", \"Date_Documented\", \"Latitude\",\"Longitude\"])\n"
     ]
    },
    {
     "name": "stdout",
     "output_type": "stream",
     "text": [
      "<class 'pandas.core.frame.DataFrame'>\n",
      "Int64Index: 66040 entries, 0 to 80331\n",
      "Data columns (total 11 columns):\n",
      " #   Column               Non-Null Count  Dtype  \n",
      "---  ------               --------------  -----  \n",
      " 0   Date_Time            66040 non-null  object \n",
      " 1   City                 66040 non-null  object \n",
      " 2   State/Province       66040 non-null  object \n",
      " 3   Country              66040 non-null  object \n",
      " 4   UFO_Shape            66040 non-null  object \n",
      " 5   Length_of_Encounter  66040 non-null  object \n",
      " 6   Described_Duration   66040 non-null  object \n",
      " 7   Description          66040 non-null  object \n",
      " 8   Date_Documented      66040 non-null  object \n",
      " 9   Latitude             66040 non-null  object \n",
      " 10  Longitude            66040 non-null  float64\n",
      "dtypes: float64(1), object(10)\n",
      "memory usage: 6.0+ MB\n"
     ]
    }
   ],
   "source": [
    "import pandas as pd\n",
    "\n",
    "ufo_df = pd.read_csv(\"ufo-scrubbed-geocoded-time-standardized.csv\",names=[\"Date_Time\", \"City\", \"State/Province\", \"Country\",\"UFO_Shape\", \"Length_of_Encounter\", \"Described_Duration\", \"Description\", \"Date_Documented\", \"Latitude\",\"Longitude\"])\n",
    "ufo_df.dropna(inplace=True)\n",
    "ufo_df[\"City\"] = ufo_df[\"City\"].str.title()\n",
    "ufo_df[\"State/Province\"] = ufo_df[\"State/Province\"].str.upper()\n",
    "ufo_df[\"Country\"] = ufo_df[\"Country\"].str.upper()\n",
    "\n",
    "# Certain datetime values are in format 24:00, which will break to_datetime.  We will remove these values from the dataset\n",
    "ufo_df = ufo_df[ufo_df[\"Date_Time\"].str.contains(\"24:00\")==False]\n",
    "#print((ufo_df[\"Date_Time\"].str.contains(\"24:00\")==False).value_counts())\n",
    "ufo_df.info()"
   ]
  },
  {
   "cell_type": "markdown",
   "metadata": {},
   "source": [
    "1. Write a program to create today's date"
   ]
  },
  {
   "cell_type": "code",
   "execution_count": 2,
   "metadata": {},
   "outputs": [
    {
     "data": {
      "text/plain": [
       "Timestamp('2022-06-17 11:34:00.347832')"
      ]
     },
     "execution_count": 2,
     "metadata": {},
     "output_type": "execute_result"
    }
   ],
   "source": [
    "today = pd.to_datetime(\"today\")\n",
    "# Removing Time from date\n",
    "# today = today.strftime(\"%m/%d/%y\")\n",
    "today"
   ]
  },
  {
   "cell_type": "markdown",
   "metadata": {},
   "source": [
    "2. Write a program to calculate all the sighting days of UFO's from current date"
   ]
  },
  {
   "cell_type": "code",
   "execution_count": 3,
   "metadata": {},
   "outputs": [
    {
     "name": "stdout",
     "output_type": "stream",
     "text": [
      "Converted Dataset: \n",
      "            Date_Time        City State/Province Country UFO_Shape  \\\n",
      "0 1949-10-10 20:30:00  San Marcos             TX      US  cylinder   \n",
      "3 1956-10-10 21:00:00        Edna             TX      US    circle   \n",
      "4 1960-10-10 20:00:00     Kaneohe             HI      US     light   \n",
      "5 1961-10-10 19:00:00     Bristol             TN      US    sphere   \n",
      "7 1965-10-10 23:45:00     Norwalk             CT      US      disk   \n",
      "\n",
      "  Length_of_Encounter Described_Duration  \\\n",
      "0                2700         45 minutes   \n",
      "3                  20           1/2 hour   \n",
      "4                 900         15 minutes   \n",
      "5                 300          5 minutes   \n",
      "7                1200         20 minutes   \n",
      "\n",
      "                                         Description Date_Documented  \\\n",
      "0  This event took place in early fall around 194...       4/27/2004   \n",
      "3  My older brother and twin sister were leaving ...       1/17/2004   \n",
      "4  AS a Marine 1st Lt. flying an FJ4B fighter/att...       1/22/2004   \n",
      "5  My father is now 89 my brother 52 the girl wit...       4/27/2007   \n",
      "7  A bright orange color changing to reddish colo...       10/2/1999   \n",
      "\n",
      "     Latitude   Longitude  \n",
      "0  29.8830556  -97.941111  \n",
      "3  28.9783333  -96.645833  \n",
      "4  21.4180556 -157.803611  \n",
      "5  36.5950000  -82.188889  \n",
      "7  41.1175000  -73.408333  \n",
      "Current date: \n",
      "2022-06-17 11:34:04.864220\n"
     ]
    }
   ],
   "source": [
    "# Utilizing pd.to_datetime- this encodes dates as 64-bit integers\n",
    "ufo_df[\"Date_Time\"] = pd.to_datetime(ufo_df[\"Date_Time\"])\n",
    "print(\"Converted Dataset: \")\n",
    "print(ufo_df.head())\n",
    "print(\"Current date: \")\n",
    "print(pd.to_datetime('today'))"
   ]
  },
  {
   "cell_type": "markdown",
   "metadata": {},
   "source": [
    "3. Write a program to get the current date, oldest date from data set, and number of days between them"
   ]
  },
  {
   "cell_type": "code",
   "execution_count": 4,
   "metadata": {},
   "outputs": [
    {
     "name": "stdout",
     "output_type": "stream",
     "text": [
      "Oldest UFO Sighting:\n",
      "1910-06-01 15:00:00\n",
      "\n",
      "Newest UFO Sighting\n",
      "2014-05-08 00:00:00\n",
      "\n",
      "Time Between:\n",
      "37961 days 09:00:00\n"
     ]
    }
   ],
   "source": [
    "oldest = ufo_df[\"Date_Time\"].min()\n",
    "newest = ufo_df[\"Date_Time\"].max()\n",
    "difference = newest - oldest\n",
    "print(\"Oldest UFO Sighting:\")\n",
    "print(oldest)\n",
    "print(\"\\nNewest UFO Sighting\")\n",
    "print(newest)\n",
    "print(\"\\nTime Between:\")\n",
    "print(difference)"
   ]
  },
  {
   "cell_type": "markdown",
   "metadata": {},
   "source": [
    "4. Write a program to get all sighting that are within 40 years of today (365 * 40 days)"
   ]
  },
  {
   "cell_type": "code",
   "execution_count": 5,
   "metadata": {},
   "outputs": [
    {
     "name": "stdout",
     "output_type": "stream",
     "text": [
      "Sightings in past 40 years:\n",
      "             Date_Time            City State/Province Country  UFO_Shape  \\\n",
      "36 1984-10-10 05:00:00         Houston             TX      US     circle   \n",
      "37 1984-10-10 12:00:00   Traverse City             MI      US      other   \n",
      "38 1984-10-10 22:00:00    White Plains             NY      US  formation   \n",
      "41 1988-10-10 18:00:00       Milwaukee             WI      US   triangle   \n",
      "42 1988-10-10 21:00:00  New Gloucester             ME      US    unknown   \n",
      "\n",
      "   Length_of_Encounter Described_Duration  \\\n",
      "36                  60           1 minute   \n",
      "37                 120     couple minutes   \n",
      "38                  20      15-20 seconds   \n",
      "41                 600         10 minutes   \n",
      "42                 120        few minutes   \n",
      "\n",
      "                                          Description Date_Documented  \\\n",
      "36                           2 experience with unkown       4/18/2012   \n",
      "37        translucent football seen over city airport       10/7/2003   \n",
      "38  Saw a hugh object in sky with lights intermitt...       8/10/1999   \n",
      "41  A silent black triangular object with no light...        8/7/2007   \n",
      "42   I&#39m still afraid to look at the sky at night.       1/10/2009   \n",
      "\n",
      "      Latitude  Longitude  \n",
      "36  29.7630556 -95.363056  \n",
      "37  44.7630556 -85.620556  \n",
      "38  41.0338889 -73.763333  \n",
      "41  43.0388889 -87.906389  \n",
      "42  43.9627778 -70.283056  \n"
     ]
    }
   ],
   "source": [
    "# 356 * 40 = 14600 days\n",
    "# We can utilize Pandas Timedelta for calculating differences in time\n",
    "daterange = pd.Timedelta(\"14600 days\")\n",
    "daterange\n",
    "past_40_df = ufo_df[today - ufo_df[\"Date_Time\"] <= daterange]\n",
    "print(\"Sightings in past 40 years:\")\n",
    "print(past_40_df.head())"
   ]
  },
  {
   "cell_type": "markdown",
   "metadata": {},
   "source": [
    "5. Write a program to get all sightings between 1950-10-10 and 1960-10-10"
   ]
  },
  {
   "cell_type": "code",
   "execution_count": null,
   "metadata": {},
   "outputs": [],
   "source": []
  }
 ],
 "metadata": {
  "kernelspec": {
   "display_name": "Python 3.10.5 64-bit",
   "language": "python",
   "name": "python3"
  },
  "language_info": {
   "codemirror_mode": {
    "name": "ipython",
    "version": 3
   },
   "file_extension": ".py",
   "mimetype": "text/x-python",
   "name": "python",
   "nbconvert_exporter": "python",
   "pygments_lexer": "ipython3",
   "version": "3.10.5"
  },
  "orig_nbformat": 4,
  "vscode": {
   "interpreter": {
    "hash": "991b4f12e3cd7e62d84ec965b56412c4354ac1fe6297d96f50a80e713193dd77"
   }
  }
 },
 "nbformat": 4,
 "nbformat_minor": 2
}
